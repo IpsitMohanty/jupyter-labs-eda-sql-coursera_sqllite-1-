{
 "cells": [
  {
   "cell_type": "markdown",
   "metadata": {},
   "source": [
    "<p style=\"text-align:center\">\n",
    "    <a href=\"https://skills.network\" target=\"_blank\">\n",
    "    <img src=\"https://cf-courses-data.s3.us.cloud-object-storage.appdomain.cloud/assets/logos/SN_web_lightmode.png\" width=\"200\" alt=\"Skills Network Logo\">\n",
    "    </a>\n",
    "</p>\n",
    "\n",
    "<h1 align=center><font size = 5>Assignment: SQL Notebook for Peer Assignment</font></h1>\n",
    "\n",
    "Estimated time needed: **60** minutes.\n",
    "\n",
    "## Introduction\n",
    "Using this Python notebook you will:\n",
    "\n",
    "1.  Understand the Spacex DataSet\n",
    "2.  Load the dataset  into the corresponding table in a Db2 database\n",
    "3.  Execute SQL queries to answer assignment questions \n"
   ]
  },
  {
   "cell_type": "markdown",
   "metadata": {},
   "source": [
    "## Overview of the DataSet\n",
    "\n",
    "SpaceX has gained worldwide attention for a series of historic milestones. \n",
    "\n",
    "It is the only private company ever to return a spacecraft from low-earth orbit, which it first accomplished in December 2010.\n",
    "SpaceX advertises Falcon 9 rocket launches on its website with a cost of 62 million dollars wheras other providers cost upward of 165 million dollars each, much of the savings is because Space X can reuse the first stage. \n",
    "\n",
    "\n",
    "Therefore if we can determine if the first stage will land, we can determine the cost of a launch. \n",
    "\n",
    "This information can be used if an alternate company wants to bid against SpaceX for a rocket launch.\n",
    "\n",
    "This dataset includes a record for each payload carried during a SpaceX mission into outer space.\n"
   ]
  },
  {
   "cell_type": "markdown",
   "metadata": {},
   "source": [
    "### Download the datasets\n",
    "\n",
    "This assignment requires you to load the spacex dataset.\n",
    "\n",
    "In many cases the dataset to be analyzed is available as a .CSV (comma separated values) file, perhaps on the internet. Click on the link below to download and save the dataset (.CSV file):\n",
    "\n",
    " <a href=\"https://cf-courses-data.s3.us.cloud-object-storage.appdomain.cloud/IBM-DS0321EN-SkillsNetwork/labs/module_2/data/Spacex.csv\" target=\"_blank\">Spacex DataSet</a>\n",
    "\n"
   ]
  },
  {
   "cell_type": "code",
   "execution_count": 1,
   "metadata": {},
   "outputs": [
    {
     "name": "stdout",
     "output_type": "stream",
     "text": [
      "Collecting sqlalchemy==1.3.9\n",
      "  Downloading SQLAlchemy-1.3.9.tar.gz (6.0 MB)\n",
      "\u001b[2K     \u001b[90m━━━━━━━━━━━━━━━━━━━━━━━━━━━━━━━━━━━━━━━━\u001b[0m \u001b[32m6.0/6.0 MB\u001b[0m \u001b[31m43.0 MB/s\u001b[0m eta \u001b[36m0:00:00\u001b[0m00:01\u001b[0m00:01\u001b[0m\n",
      "\u001b[?25h  Preparing metadata (setup.py) ... \u001b[?25ldone\n",
      "\u001b[?25hBuilding wheels for collected packages: sqlalchemy\n",
      "  Building wheel for sqlalchemy (setup.py) ... \u001b[?25ldone\n",
      "\u001b[?25h  Created wheel for sqlalchemy: filename=SQLAlchemy-1.3.9-cp311-cp311-linux_x86_64.whl size=1142923 sha256=6c82e6c6948e515da6dd2b025bb4aca186a8af4ca81edc7796dc423633f0b712\n",
      "  Stored in directory: /home/jupyterlab/.cache/pip/wheels/3a/7c/1e/12404784a68083eb969f877a1808a1847bab897684b56ddc55\n",
      "Successfully built sqlalchemy\n",
      "Installing collected packages: sqlalchemy\n",
      "  Attempting uninstall: sqlalchemy\n",
      "    Found existing installation: SQLAlchemy 2.0.30\n",
      "    Uninstalling SQLAlchemy-2.0.30:\n",
      "      Successfully uninstalled SQLAlchemy-2.0.30\n",
      "\u001b[31mERROR: pip's dependency resolver does not currently take into account all the packages that are installed. This behaviour is the source of the following dependency conflicts.\n",
      "jupyterhub 4.1.5 requires SQLAlchemy>=1.4, but you have sqlalchemy 1.3.9 which is incompatible.\u001b[0m\u001b[31m\n",
      "\u001b[0mSuccessfully installed sqlalchemy-1.3.9\n"
     ]
    }
   ],
   "source": [
    "!pip install sqlalchemy==1.3.9\n"
   ]
  },
  {
   "cell_type": "markdown",
   "metadata": {},
   "source": [
    "### Connect to the database\n",
    "\n",
    "Let us first load the SQL extension and establish a connection with the database\n"
   ]
  },
  {
   "cell_type": "code",
   "execution_count": 2,
   "metadata": {},
   "outputs": [
    {
     "name": "stdout",
     "output_type": "stream",
     "text": [
      "Collecting ipython-sql\n",
      "  Downloading ipython_sql-0.5.0-py3-none-any.whl.metadata (17 kB)\n",
      "Collecting prettytable (from ipython-sql)\n",
      "  Downloading prettytable-3.12.0-py3-none-any.whl.metadata (30 kB)\n",
      "Requirement already satisfied: ipython in /opt/conda/lib/python3.11/site-packages (from ipython-sql) (8.22.2)\n",
      "Collecting sqlalchemy>=2.0 (from ipython-sql)\n",
      "  Downloading SQLAlchemy-2.0.36-cp311-cp311-manylinux_2_17_x86_64.manylinux2014_x86_64.whl.metadata (9.7 kB)\n",
      "Collecting sqlparse (from ipython-sql)\n",
      "  Downloading sqlparse-0.5.2-py3-none-any.whl.metadata (3.9 kB)\n",
      "Requirement already satisfied: six in /opt/conda/lib/python3.11/site-packages (from ipython-sql) (1.16.0)\n",
      "Requirement already satisfied: ipython-genutils in /opt/conda/lib/python3.11/site-packages (from ipython-sql) (0.2.0)\n",
      "Requirement already satisfied: typing-extensions>=4.6.0 in /opt/conda/lib/python3.11/site-packages (from sqlalchemy>=2.0->ipython-sql) (4.11.0)\n",
      "Requirement already satisfied: greenlet!=0.4.17 in /opt/conda/lib/python3.11/site-packages (from sqlalchemy>=2.0->ipython-sql) (3.0.3)\n",
      "Requirement already satisfied: decorator in /opt/conda/lib/python3.11/site-packages (from ipython->ipython-sql) (5.1.1)\n",
      "Requirement already satisfied: jedi>=0.16 in /opt/conda/lib/python3.11/site-packages (from ipython->ipython-sql) (0.19.1)\n",
      "Requirement already satisfied: matplotlib-inline in /opt/conda/lib/python3.11/site-packages (from ipython->ipython-sql) (0.1.7)\n",
      "Requirement already satisfied: prompt-toolkit<3.1.0,>=3.0.41 in /opt/conda/lib/python3.11/site-packages (from ipython->ipython-sql) (3.0.42)\n",
      "Requirement already satisfied: pygments>=2.4.0 in /opt/conda/lib/python3.11/site-packages (from ipython->ipython-sql) (2.18.0)\n",
      "Requirement already satisfied: stack-data in /opt/conda/lib/python3.11/site-packages (from ipython->ipython-sql) (0.6.2)\n",
      "Requirement already satisfied: traitlets>=5.13.0 in /opt/conda/lib/python3.11/site-packages (from ipython->ipython-sql) (5.14.3)\n",
      "Requirement already satisfied: pexpect>4.3 in /opt/conda/lib/python3.11/site-packages (from ipython->ipython-sql) (4.9.0)\n",
      "Requirement already satisfied: wcwidth in /opt/conda/lib/python3.11/site-packages (from prettytable->ipython-sql) (0.2.13)\n",
      "Requirement already satisfied: parso<0.9.0,>=0.8.3 in /opt/conda/lib/python3.11/site-packages (from jedi>=0.16->ipython->ipython-sql) (0.8.4)\n",
      "Requirement already satisfied: ptyprocess>=0.5 in /opt/conda/lib/python3.11/site-packages (from pexpect>4.3->ipython->ipython-sql) (0.7.0)\n",
      "Requirement already satisfied: executing>=1.2.0 in /opt/conda/lib/python3.11/site-packages (from stack-data->ipython->ipython-sql) (2.0.1)\n",
      "Requirement already satisfied: asttokens>=2.1.0 in /opt/conda/lib/python3.11/site-packages (from stack-data->ipython->ipython-sql) (2.4.1)\n",
      "Requirement already satisfied: pure-eval in /opt/conda/lib/python3.11/site-packages (from stack-data->ipython->ipython-sql) (0.2.2)\n",
      "Downloading ipython_sql-0.5.0-py3-none-any.whl (20 kB)\n",
      "Downloading SQLAlchemy-2.0.36-cp311-cp311-manylinux_2_17_x86_64.manylinux2014_x86_64.whl (3.2 MB)\n",
      "\u001b[2K   \u001b[90m━━━━━━━━━━━━━━━━━━━━━━━━━━━━━━━━━━━━━━━━\u001b[0m \u001b[32m3.2/3.2 MB\u001b[0m \u001b[31m90.2 MB/s\u001b[0m eta \u001b[36m0:00:00\u001b[0m:00:01\u001b[0m\n",
      "\u001b[?25hDownloading prettytable-3.12.0-py3-none-any.whl (31 kB)\n",
      "Downloading sqlparse-0.5.2-py3-none-any.whl (44 kB)\n",
      "\u001b[2K   \u001b[90m━━━━━━━━━━━━━━━━━━━━━━━━━━━━━━━━━━━━━━━━\u001b[0m \u001b[32m44.4/44.4 kB\u001b[0m \u001b[31m6.3 MB/s\u001b[0m eta \u001b[36m0:00:00\u001b[0m\n",
      "\u001b[?25hInstalling collected packages: sqlparse, sqlalchemy, prettytable, ipython-sql\n",
      "  Attempting uninstall: sqlalchemy\n",
      "    Found existing installation: SQLAlchemy 1.3.9\n",
      "    Uninstalling SQLAlchemy-1.3.9:\n",
      "      Successfully uninstalled SQLAlchemy-1.3.9\n",
      "Successfully installed ipython-sql-0.5.0 prettytable-3.12.0 sqlalchemy-2.0.36 sqlparse-0.5.2\n",
      "Requirement already satisfied: ipython-sql in /opt/conda/lib/python3.11/site-packages (0.5.0)\n",
      "Requirement already satisfied: prettytable in /opt/conda/lib/python3.11/site-packages (3.12.0)\n",
      "Requirement already satisfied: ipython in /opt/conda/lib/python3.11/site-packages (from ipython-sql) (8.22.2)\n",
      "Requirement already satisfied: sqlalchemy>=2.0 in /opt/conda/lib/python3.11/site-packages (from ipython-sql) (2.0.36)\n",
      "Requirement already satisfied: sqlparse in /opt/conda/lib/python3.11/site-packages (from ipython-sql) (0.5.2)\n",
      "Requirement already satisfied: six in /opt/conda/lib/python3.11/site-packages (from ipython-sql) (1.16.0)\n",
      "Requirement already satisfied: ipython-genutils in /opt/conda/lib/python3.11/site-packages (from ipython-sql) (0.2.0)\n",
      "Requirement already satisfied: wcwidth in /opt/conda/lib/python3.11/site-packages (from prettytable) (0.2.13)\n",
      "Requirement already satisfied: typing-extensions>=4.6.0 in /opt/conda/lib/python3.11/site-packages (from sqlalchemy>=2.0->ipython-sql) (4.11.0)\n",
      "Requirement already satisfied: greenlet!=0.4.17 in /opt/conda/lib/python3.11/site-packages (from sqlalchemy>=2.0->ipython-sql) (3.0.3)\n",
      "Requirement already satisfied: decorator in /opt/conda/lib/python3.11/site-packages (from ipython->ipython-sql) (5.1.1)\n",
      "Requirement already satisfied: jedi>=0.16 in /opt/conda/lib/python3.11/site-packages (from ipython->ipython-sql) (0.19.1)\n",
      "Requirement already satisfied: matplotlib-inline in /opt/conda/lib/python3.11/site-packages (from ipython->ipython-sql) (0.1.7)\n",
      "Requirement already satisfied: prompt-toolkit<3.1.0,>=3.0.41 in /opt/conda/lib/python3.11/site-packages (from ipython->ipython-sql) (3.0.42)\n",
      "Requirement already satisfied: pygments>=2.4.0 in /opt/conda/lib/python3.11/site-packages (from ipython->ipython-sql) (2.18.0)\n",
      "Requirement already satisfied: stack-data in /opt/conda/lib/python3.11/site-packages (from ipython->ipython-sql) (0.6.2)\n",
      "Requirement already satisfied: traitlets>=5.13.0 in /opt/conda/lib/python3.11/site-packages (from ipython->ipython-sql) (5.14.3)\n",
      "Requirement already satisfied: pexpect>4.3 in /opt/conda/lib/python3.11/site-packages (from ipython->ipython-sql) (4.9.0)\n",
      "Requirement already satisfied: parso<0.9.0,>=0.8.3 in /opt/conda/lib/python3.11/site-packages (from jedi>=0.16->ipython->ipython-sql) (0.8.4)\n",
      "Requirement already satisfied: ptyprocess>=0.5 in /opt/conda/lib/python3.11/site-packages (from pexpect>4.3->ipython->ipython-sql) (0.7.0)\n",
      "Requirement already satisfied: executing>=1.2.0 in /opt/conda/lib/python3.11/site-packages (from stack-data->ipython->ipython-sql) (2.0.1)\n",
      "Requirement already satisfied: asttokens>=2.1.0 in /opt/conda/lib/python3.11/site-packages (from stack-data->ipython->ipython-sql) (2.4.1)\n",
      "Requirement already satisfied: pure-eval in /opt/conda/lib/python3.11/site-packages (from stack-data->ipython->ipython-sql) (0.2.2)\n"
     ]
    }
   ],
   "source": [
    "!pip install ipython-sql\n",
    "!pip install ipython-sql prettytable"
   ]
  },
  {
   "cell_type": "code",
   "execution_count": 11,
   "metadata": {},
   "outputs": [
    {
     "name": "stdout",
     "output_type": "stream",
     "text": [
      "The sql extension is already loaded. To reload it, use:\n",
      "  %reload_ext sql\n"
     ]
    }
   ],
   "source": [
    "%load_ext sql"
   ]
  },
  {
   "cell_type": "code",
   "execution_count": 18,
   "metadata": {},
   "outputs": [],
   "source": [
    "import csv, sqlite3\n",
    "import prettytable\n",
    "prettytable.DEFAULT = 'DEFAULT'\n",
    "\n",
    "con = sqlite3.connect(\"my_data1.db\")\n",
    "cur = con.cursor()"
   ]
  },
  {
   "cell_type": "code",
   "execution_count": 20,
   "metadata": {},
   "outputs": [],
   "source": [
    "!pip install -q pandas"
   ]
  },
  {
   "cell_type": "code",
   "execution_count": 21,
   "metadata": {},
   "outputs": [],
   "source": [
    "%sql sqlite:///my_data1.db"
   ]
  },
  {
   "cell_type": "code",
   "execution_count": 22,
   "metadata": {},
   "outputs": [
    {
     "data": {
      "text/plain": [
       "101"
      ]
     },
     "execution_count": 22,
     "metadata": {},
     "output_type": "execute_result"
    }
   ],
   "source": [
    "import pandas as pd\n",
    "df = pd.read_csv(\"https://cf-courses-data.s3.us.cloud-object-storage.appdomain.cloud/IBM-DS0321EN-SkillsNetwork/labs/module_2/data/Spacex.csv\")\n",
    "df.to_sql(\"SPACEXTBL\", con, if_exists='replace', index=False,method=\"multi\")"
   ]
  },
  {
   "cell_type": "markdown",
   "metadata": {},
   "source": [
    "**Note:This below code is added to remove blank rows from table**\n"
   ]
  },
  {
   "cell_type": "code",
   "execution_count": 23,
   "metadata": {},
   "outputs": [
    {
     "name": "stdout",
     "output_type": "stream",
     "text": [
      " * sqlite:///my_data1.db\n",
      "Done.\n"
     ]
    },
    {
     "data": {
      "text/plain": [
       "[]"
      ]
     },
     "execution_count": 23,
     "metadata": {},
     "output_type": "execute_result"
    }
   ],
   "source": [
    "#DROP THE TABLE IF EXISTS\n",
    "\n",
    "%sql DROP TABLE IF EXISTS SPACEXTABLE;"
   ]
  },
  {
   "cell_type": "code",
   "execution_count": 24,
   "metadata": {},
   "outputs": [
    {
     "name": "stdout",
     "output_type": "stream",
     "text": [
      " * sqlite:///my_data1.db\n",
      "Done.\n"
     ]
    },
    {
     "data": {
      "text/plain": [
       "[]"
      ]
     },
     "execution_count": 24,
     "metadata": {},
     "output_type": "execute_result"
    }
   ],
   "source": [
    "%sql create table SPACEXTABLE as select * from SPACEXTBL where Date is not null"
   ]
  },
  {
   "cell_type": "markdown",
   "metadata": {},
   "source": [
    "## Tasks\n",
    "\n",
    "Now write and execute SQL queries to solve the assignment tasks.\n",
    "\n",
    "**Note: If the column names are in mixed case enclose it in double quotes\n",
    "   For Example \"Landing_Outcome\"**\n",
    "\n",
    "### Task 1\n",
    "\n",
    "\n",
    "\n",
    "\n",
    "##### Display the names of the unique launch sites  in the space mission\n"
   ]
  },
  {
   "cell_type": "code",
   "execution_count": 71,
   "metadata": {},
   "outputs": [
    {
     "name": "stdout",
     "output_type": "stream",
     "text": [
      "Unique Launch Sites in the SpaceX Dataset:\n",
      "CCAFS LC-40\n",
      "VAFB SLC-4E\n",
      "KSC LC-39A\n",
      "CCAFS SLC-40\n"
     ]
    }
   ],
   "source": [
    "import pandas as pd\n",
    "\n",
    "# Load the dataset from the current directory\n",
    "file_path = 'Spacex.csv'\n",
    "\n",
    "# Load the dataset into a DataFrame\n",
    "df = pd.read_csv(file_path)\n",
    "\n",
    "# Display unique launch sites\n",
    "unique_launch_sites = df['Launch_Site'].unique()\n",
    "\n",
    "# Print the unique launch sites\n",
    "print(\"Unique Launch Sites in the SpaceX Dataset:\")\n",
    "for site in unique_launch_sites:\n",
    "    print(site)\n",
    "\n",
    "\n",
    "\n",
    "\n"
   ]
  },
  {
   "cell_type": "markdown",
   "metadata": {},
   "source": [
    "\n",
    "### Task 2\n",
    "\n",
    "\n",
    "#####  Display 5 records where launch sites begin with the string 'CCA' \n"
   ]
  },
  {
   "cell_type": "code",
   "execution_count": 43,
   "metadata": {},
   "outputs": [
    {
     "data": {
      "text/html": [
       "<div>\n",
       "<style scoped>\n",
       "    .dataframe tbody tr th:only-of-type {\n",
       "        vertical-align: middle;\n",
       "    }\n",
       "\n",
       "    .dataframe tbody tr th {\n",
       "        vertical-align: top;\n",
       "    }\n",
       "\n",
       "    .dataframe thead th {\n",
       "        text-align: right;\n",
       "    }\n",
       "</style>\n",
       "<table border=\"1\" class=\"dataframe\">\n",
       "  <thead>\n",
       "    <tr style=\"text-align: right;\">\n",
       "      <th></th>\n",
       "      <th>Date</th>\n",
       "      <th>Time (UTC)</th>\n",
       "      <th>Booster_Version</th>\n",
       "      <th>Launch_Site</th>\n",
       "      <th>Payload</th>\n",
       "      <th>PAYLOAD_MASS__KG_</th>\n",
       "      <th>Orbit</th>\n",
       "      <th>Customer</th>\n",
       "      <th>Mission_Outcome</th>\n",
       "      <th>Landing_Outcome</th>\n",
       "    </tr>\n",
       "  </thead>\n",
       "  <tbody>\n",
       "    <tr>\n",
       "      <th>0</th>\n",
       "      <td>2010-06-04</td>\n",
       "      <td>18:45:00</td>\n",
       "      <td>F9 v1.0  B0003</td>\n",
       "      <td>CCAFS LC-40</td>\n",
       "      <td>Dragon Spacecraft Qualification Unit</td>\n",
       "      <td>0</td>\n",
       "      <td>LEO</td>\n",
       "      <td>SpaceX</td>\n",
       "      <td>Success</td>\n",
       "      <td>Failure (parachute)</td>\n",
       "    </tr>\n",
       "    <tr>\n",
       "      <th>1</th>\n",
       "      <td>2010-12-08</td>\n",
       "      <td>15:43:00</td>\n",
       "      <td>F9 v1.0  B0004</td>\n",
       "      <td>CCAFS LC-40</td>\n",
       "      <td>Dragon demo flight C1, two CubeSats, barrel of...</td>\n",
       "      <td>0</td>\n",
       "      <td>LEO (ISS)</td>\n",
       "      <td>NASA (COTS) NRO</td>\n",
       "      <td>Success</td>\n",
       "      <td>Failure (parachute)</td>\n",
       "    </tr>\n",
       "    <tr>\n",
       "      <th>2</th>\n",
       "      <td>2012-05-22</td>\n",
       "      <td>7:44:00</td>\n",
       "      <td>F9 v1.0  B0005</td>\n",
       "      <td>CCAFS LC-40</td>\n",
       "      <td>Dragon demo flight C2</td>\n",
       "      <td>525</td>\n",
       "      <td>LEO (ISS)</td>\n",
       "      <td>NASA (COTS)</td>\n",
       "      <td>Success</td>\n",
       "      <td>No attempt</td>\n",
       "    </tr>\n",
       "    <tr>\n",
       "      <th>3</th>\n",
       "      <td>2012-10-08</td>\n",
       "      <td>0:35:00</td>\n",
       "      <td>F9 v1.0  B0006</td>\n",
       "      <td>CCAFS LC-40</td>\n",
       "      <td>SpaceX CRS-1</td>\n",
       "      <td>500</td>\n",
       "      <td>LEO (ISS)</td>\n",
       "      <td>NASA (CRS)</td>\n",
       "      <td>Success</td>\n",
       "      <td>No attempt</td>\n",
       "    </tr>\n",
       "    <tr>\n",
       "      <th>4</th>\n",
       "      <td>2013-03-01</td>\n",
       "      <td>15:10:00</td>\n",
       "      <td>F9 v1.0  B0007</td>\n",
       "      <td>CCAFS LC-40</td>\n",
       "      <td>SpaceX CRS-2</td>\n",
       "      <td>677</td>\n",
       "      <td>LEO (ISS)</td>\n",
       "      <td>NASA (CRS)</td>\n",
       "      <td>Success</td>\n",
       "      <td>No attempt</td>\n",
       "    </tr>\n",
       "  </tbody>\n",
       "</table>\n",
       "</div>"
      ],
      "text/plain": [
       "         Date Time (UTC) Booster_Version  Launch_Site  \\\n",
       "0  2010-06-04   18:45:00  F9 v1.0  B0003  CCAFS LC-40   \n",
       "1  2010-12-08   15:43:00  F9 v1.0  B0004  CCAFS LC-40   \n",
       "2  2012-05-22    7:44:00  F9 v1.0  B0005  CCAFS LC-40   \n",
       "3  2012-10-08    0:35:00  F9 v1.0  B0006  CCAFS LC-40   \n",
       "4  2013-03-01   15:10:00  F9 v1.0  B0007  CCAFS LC-40   \n",
       "\n",
       "                                             Payload  PAYLOAD_MASS__KG_  \\\n",
       "0               Dragon Spacecraft Qualification Unit                  0   \n",
       "1  Dragon demo flight C1, two CubeSats, barrel of...                  0   \n",
       "2                              Dragon demo flight C2                525   \n",
       "3                                       SpaceX CRS-1                500   \n",
       "4                                       SpaceX CRS-2                677   \n",
       "\n",
       "       Orbit         Customer Mission_Outcome      Landing_Outcome  \n",
       "0        LEO           SpaceX         Success  Failure (parachute)  \n",
       "1  LEO (ISS)  NASA (COTS) NRO         Success  Failure (parachute)  \n",
       "2  LEO (ISS)      NASA (COTS)         Success           No attempt  \n",
       "3  LEO (ISS)       NASA (CRS)         Success           No attempt  \n",
       "4  LEO (ISS)       NASA (CRS)         Success           No attempt  "
      ]
     },
     "execution_count": 43,
     "metadata": {},
     "output_type": "execute_result"
    }
   ],
   "source": [
    "import pandas as pd\n",
    "\n",
    "# Load the dataset from the current directory\n",
    "file_path = 'Spacex.csv'\n",
    "df = pd.read_csv(file_path)\n",
    "\n",
    "# Filter the DataFrame for records where 'Launch_Site' starts with 'CCA'\n",
    "filtered_df = df[df['Launch_Site'].str.startswith('CCA')]\n",
    "\n",
    "# Display the first 5 records of the filtered data in a neat table format\n",
    "filtered_df.head(5)\n"
   ]
  },
  {
   "cell_type": "markdown",
   "metadata": {},
   "source": [
    "### Task 3\n",
    "\n",
    "\n",
    "\n",
    "\n",
    "##### Display the total payload mass carried by boosters launched by NASA (CRS)\n"
   ]
  },
  {
   "cell_type": "code",
   "execution_count": 44,
   "metadata": {},
   "outputs": [
    {
     "name": "stdout",
     "output_type": "stream",
     "text": [
      "Total Payload Mass carried by NASA (CRS) boosters: 45596 kg\n"
     ]
    }
   ],
   "source": [
    "# Filter the DataFrame for records where 'Customer' is 'NASA (CRS)'\n",
    "nasa_crs_df = df[df['Customer'] == 'NASA (CRS)']\n",
    "\n",
    "# Calculate the total payload mass\n",
    "total_payload_mass = nasa_crs_df['PAYLOAD_MASS__KG_'].sum()\n",
    "\n",
    "# Display the total payload mass\n",
    "print(\"Total Payload Mass carried by NASA (CRS) boosters:\", total_payload_mass, \"kg\")\n"
   ]
  },
  {
   "cell_type": "markdown",
   "metadata": {},
   "source": [
    "### Task 4\n",
    "\n",
    "\n",
    "\n",
    "\n",
    "##### Display average payload mass carried by booster version F9 v1.1\n"
   ]
  },
  {
   "cell_type": "code",
   "execution_count": 45,
   "metadata": {},
   "outputs": [
    {
     "name": "stdout",
     "output_type": "stream",
     "text": [
      "Average Payload Mass carried by F9 v1.1 boosters: 2928.4 kg\n"
     ]
    }
   ],
   "source": [
    "# Filter the DataFrame for records where 'Booster_Version' is 'F9 v1.1'\n",
    "f9_v1_1_df = df[df['Booster_Version'] == 'F9 v1.1']\n",
    "\n",
    "# Calculate the average payload mass\n",
    "average_payload_mass = f9_v1_1_df['PAYLOAD_MASS__KG_'].mean()\n",
    "\n",
    "# Display the average payload mass\n",
    "print(\"Average Payload Mass carried by F9 v1.1 boosters:\", average_payload_mass, \"kg\")\n"
   ]
  },
  {
   "cell_type": "markdown",
   "metadata": {},
   "source": [
    "### Task 5\n",
    "\n",
    "##### List the date when the first succesful landing outcome in ground pad was acheived.\n",
    "\n",
    "\n",
    "_Hint:Use min function_ \n"
   ]
  },
  {
   "cell_type": "code",
   "execution_count": 50,
   "metadata": {},
   "outputs": [
    {
     "name": "stdout",
     "output_type": "stream",
     "text": [
      "The first successful landing on a ground pad occurred on: 2015-12-22\n"
     ]
    }
   ],
   "source": [
    "# Filter the DataFrame for records where 'Landing_Outcome' indicates successful landing on ground pad\n",
    "ground_pad_success_df = df[df['Landing_Outcome'] == 'Success (ground pad)']\n",
    "\n",
    "# Get the earliest (first) date when the successful landing on ground pad occurred\n",
    "first_successful_landing_date = ground_pad_success_df['Date'].min()\n",
    "\n",
    "# Display the result\n",
    "print(\"The first successful landing on a ground pad occurred on:\", first_successful_landing_date)\n",
    "\n"
   ]
  },
  {
   "cell_type": "markdown",
   "metadata": {},
   "source": [
    "### Task 6\n",
    "\n",
    "##### List the names of the boosters which have success in drone ship and have payload mass greater than 4000 but less than 6000\n"
   ]
  },
  {
   "cell_type": "code",
   "execution_count": 51,
   "metadata": {},
   "outputs": [
    {
     "name": "stdout",
     "output_type": "stream",
     "text": [
      "Booster names with successful landing on drone ship and payload mass between 4000 and 6000 kg:\n",
      "['F9 FT B1022' 'F9 FT B1026' 'F9 FT  B1021.2' 'F9 FT  B1031.2']\n"
     ]
    }
   ],
   "source": [
    "# Filter the DataFrame for successful drone ship landings and payload mass between 4000 and 6000 kg\n",
    "filtered_boosters_df = df[(df['Landing_Outcome'] == 'Success (drone ship)') & \n",
    "                           (df['PAYLOAD_MASS__KG_'] > 4000) & \n",
    "                           (df['PAYLOAD_MASS__KG_'] < 6000)]\n",
    "\n",
    "# Get the names of the boosters\n",
    "booster_names = filtered_boosters_df['Booster_Version'].unique()\n",
    "\n",
    "# Display the result\n",
    "print(\"Booster names with successful landing on drone ship and payload mass between 4000 and 6000 kg:\")\n",
    "print(booster_names)\n"
   ]
  },
  {
   "cell_type": "markdown",
   "metadata": {},
   "source": [
    "### Task 7\n",
    "\n",
    "\n",
    "\n",
    "\n",
    "##### List the total number of successful and failure mission outcomes\n"
   ]
  },
  {
   "cell_type": "code",
   "execution_count": 52,
   "metadata": {},
   "outputs": [
    {
     "name": "stdout",
     "output_type": "stream",
     "text": [
      "Total number of successful and failed mission outcomes:\n",
      "Mission_Outcome\n",
      "Success                             98\n",
      "Failure (in flight)                  1\n",
      "Success (payload status unclear)     1\n",
      "Success                              1\n",
      "Name: count, dtype: int64\n"
     ]
    }
   ],
   "source": [
    "# Use value_counts() on the 'Mission_Outcome' column to count successes and failures\n",
    "mission_outcomes_count = df['Mission_Outcome'].value_counts()\n",
    "\n",
    "# Display the result\n",
    "print(\"Total number of successful and failed mission outcomes:\")\n",
    "print(mission_outcomes_count)\n"
   ]
  },
  {
   "cell_type": "code",
   "execution_count": 57,
   "metadata": {},
   "outputs": [
    {
     "name": "stdout",
     "output_type": "stream",
     "text": [
      "Final total number of successful and failed mission outcomes:\n",
      "Mission_Outcome\n",
      "Success                99\n",
      "Failure (in flight)     1\n",
      "Success                 1\n",
      "Name: count, dtype: int64\n"
     ]
    }
   ],
   "source": [
    "# Normalize all \"Success\" outcomes into a single category\n",
    "df['Mission_Outcome'] = df['Mission_Outcome'].replace({\n",
    "    'Success': 'Success',  # This can be merged with other \"Success\" variations\n",
    "    'Success (payload status unclear)': 'Success'\n",
    "})\n",
    "\n",
    "# Recalculate the counts for mission outcomes\n",
    "mission_outcomes_final_count = df['Mission_Outcome'].value_counts()\n",
    "\n",
    "# Display the cleaned result\n",
    "print(\"Final total number of successful and failed mission outcomes:\")\n",
    "print(mission_outcomes_final_count)\n"
   ]
  },
  {
   "cell_type": "markdown",
   "metadata": {},
   "source": [
    "### Task 8\n",
    "\n",
    "\n",
    "\n",
    "##### List the   names of the booster_versions which have carried the maximum payload mass. Use a subquery\n"
   ]
  },
  {
   "cell_type": "code",
   "execution_count": 65,
   "metadata": {},
   "outputs": [
    {
     "name": "stdout",
     "output_type": "stream",
     "text": [
      "2024-11-19 08:04:18,934 INFO sqlalchemy.engine.Engine BEGIN (implicit)\n",
      "2024-11-19 08:04:18,938 INFO sqlalchemy.engine.Engine PRAGMA main.table_info(\"spacex_table\")\n",
      "2024-11-19 08:04:18,939 INFO sqlalchemy.engine.Engine [raw sql] ()\n",
      "2024-11-19 08:04:18,940 INFO sqlalchemy.engine.Engine PRAGMA temp.table_info(\"spacex_table\")\n",
      "2024-11-19 08:04:18,940 INFO sqlalchemy.engine.Engine [raw sql] ()\n",
      "2024-11-19 08:04:18,942 INFO sqlalchemy.engine.Engine \n",
      "CREATE TABLE spacex_table (\n",
      "\t\"Date\" TEXT, \n",
      "\t\"Time (UTC)\" TEXT, \n",
      "\t\"Booster_Version\" TEXT, \n",
      "\t\"Launch_Site\" TEXT, \n",
      "\t\"Payload\" TEXT, \n",
      "\t\"PAYLOAD_MASS__KG_\" BIGINT, \n",
      "\t\"Orbit\" TEXT, \n",
      "\t\"Customer\" TEXT, \n",
      "\t\"Mission_Outcome\" TEXT, \n",
      "\t\"Landing_Outcome\" TEXT\n",
      ")\n",
      "\n",
      "\n",
      "2024-11-19 08:04:18,943 INFO sqlalchemy.engine.Engine [no key 0.00054s] ()\n",
      "2024-11-19 08:04:19,036 INFO sqlalchemy.engine.Engine INSERT INTO spacex_table (\"Date\", \"Time (UTC)\", \"Booster_Version\", \"Launch_Site\", \"Payload\", \"PAYLOAD_MASS__KG_\", \"Orbit\", \"Customer\", \"Mission_Outcome\", \"Landing_Outcome\") VALUES (?, ?, ?, ?, ?, ?, ?, ?, ?, ?)\n",
      "2024-11-19 08:04:19,037 INFO sqlalchemy.engine.Engine [generated in 0.00163s] [('2010-06-04', '18:45:00', 'F9 v1.0  B0003', 'CCAFS LC-40', 'Dragon Spacecraft Qualification Unit', 0, 'LEO', 'SpaceX', 'Success', 'Failure (parachute)'), ('2010-12-08', '15:43:00', 'F9 v1.0  B0004', 'CCAFS LC-40', 'Dragon demo flight C1, two CubeSats, barrel of Brouere cheese', 0, 'LEO (ISS)', 'NASA (COTS) NRO', 'Success', 'Failure (parachute)'), ('2012-05-22', '7:44:00', 'F9 v1.0  B0005', 'CCAFS LC-40', 'Dragon demo flight C2', 525, 'LEO (ISS)', 'NASA (COTS)', 'Success', 'No attempt'), ('2012-10-08', '0:35:00', 'F9 v1.0  B0006', 'CCAFS LC-40', 'SpaceX CRS-1', 500, 'LEO (ISS)', 'NASA (CRS)', 'Success', 'No attempt'), ('2013-03-01', '15:10:00', 'F9 v1.0  B0007', 'CCAFS LC-40', 'SpaceX CRS-2', 677, 'LEO (ISS)', 'NASA (CRS)', 'Success', 'No attempt'), ('2013-09-29', '16:00:00', 'F9 v1.1  B1003', 'VAFB SLC-4E', 'CASSIOPE', 500, 'Polar LEO', 'MDA', 'Success', 'Uncontrolled (ocean)'), ('2013-12-03', '22:41:00', 'F9 v1.1', 'CCAFS LC-40', 'SES-8', 3170, 'GTO', 'SES', 'Success', 'No attempt'), ('2014-01-06', '22:06:00', 'F9 v1.1', 'CCAFS LC-40', 'Thaicom 6', 3325, 'GTO', 'Thaicom', 'Success', 'No attempt')  ... displaying 10 of 101 total bound parameter sets ...  ('2020-11-25', '2:13:00', 'F9 B5 B1049.7 ', 'CCAFS SLC-40', 'Starlink 15 v1.0, SpaceX CRS-21', 15600, 'LEO', 'SpaceX', 'Success', 'Success'), ('2020-12-06', '16:17:08', 'F9 B5 B1058.4 ', 'KSC LC-39A', 'SpaceX CRS-21', 2972, 'LEO (ISS)', 'NASA (CRS)', 'Success', 'Success')]\n",
      "2024-11-19 08:04:19,076 INFO sqlalchemy.engine.Engine COMMIT\n",
      "2024-11-19 08:04:19,160 INFO sqlalchemy.engine.Engine BEGIN (implicit)\n",
      "2024-11-19 08:04:19,161 INFO sqlalchemy.engine.Engine PRAGMA main.table_info(\"\n",
      "SELECT \"\"Booster_Version\"\"\n",
      "FROM spacex_table\n",
      "WHERE \"\"PAYLOAD_MASS__KG_\"\" = (\n",
      "    SELECT MAX(\"\"PAYLOAD_MASS__KG_\"\") FROM spacex_table\n",
      ")\n",
      "\")\n",
      "2024-11-19 08:04:19,162 INFO sqlalchemy.engine.Engine [raw sql] ()\n",
      "2024-11-19 08:04:19,185 INFO sqlalchemy.engine.Engine PRAGMA temp.table_info(\"\n",
      "SELECT \"\"Booster_Version\"\"\n",
      "FROM spacex_table\n",
      "WHERE \"\"PAYLOAD_MASS__KG_\"\" = (\n",
      "    SELECT MAX(\"\"PAYLOAD_MASS__KG_\"\") FROM spacex_table\n",
      ")\n",
      "\")\n",
      "2024-11-19 08:04:19,186 INFO sqlalchemy.engine.Engine [raw sql] ()\n",
      "2024-11-19 08:04:19,187 INFO sqlalchemy.engine.Engine \n",
      "SELECT \"Booster_Version\"\n",
      "FROM spacex_table\n",
      "WHERE \"PAYLOAD_MASS__KG_\" = (\n",
      "    SELECT MAX(\"PAYLOAD_MASS__KG_\") FROM spacex_table\n",
      ")\n",
      "\n",
      "2024-11-19 08:04:19,187 INFO sqlalchemy.engine.Engine [raw sql] ()\n",
      "2024-11-19 08:04:19,190 INFO sqlalchemy.engine.Engine ROLLBACK\n",
      "   Booster_Version\n",
      "0    F9 B5 B1048.4\n",
      "1    F9 B5 B1049.4\n",
      "2    F9 B5 B1051.3\n",
      "3    F9 B5 B1056.4\n",
      "4    F9 B5 B1048.5\n",
      "5    F9 B5 B1051.4\n",
      "6    F9 B5 B1049.5\n",
      "7   F9 B5 B1060.2 \n",
      "8   F9 B5 B1058.3 \n",
      "9    F9 B5 B1051.6\n",
      "10   F9 B5 B1060.3\n",
      "11  F9 B5 B1049.7 \n"
     ]
    }
   ],
   "source": [
    "import pandas as pd\n",
    "from sqlalchemy import create_engine\n",
    "\n",
    "# Load the dataset from the provided file path\n",
    "file_path = 'Spacex.csv'  # Adjust this to the correct path where the file is uploaded\n",
    "df = pd.read_csv(file_path)\n",
    "\n",
    "# Create an SQLite engine (or use another database engine)\n",
    "engine = create_engine('sqlite:///spacex.db', echo=True)\n",
    "\n",
    "# Save the DataFrame to an SQLite table named 'spacex_table'\n",
    "df.to_sql('spacex_table', con=engine, if_exists='replace', index=False)\n",
    "\n",
    "# SQL query to find booster versions with the maximum payload mass\n",
    "query = '''\n",
    "SELECT \"Booster_Version\"\n",
    "FROM spacex_table\n",
    "WHERE \"PAYLOAD_MASS__KG_\" = (\n",
    "    SELECT MAX(\"PAYLOAD_MASS__KG_\") FROM spacex_table\n",
    ")\n",
    "'''\n",
    "\n",
    "# Execute the query and fetch the results into a DataFrame\n",
    "booster_versions = pd.read_sql(query, con=engine)\n",
    "\n",
    "# Display the result\n",
    "print(booster_versions)\n",
    "\n"
   ]
  },
  {
   "cell_type": "markdown",
   "metadata": {},
   "source": [
    "### Task 9\n",
    "\n",
    "\n",
    "##### List the records which will display the month names, failure landing_outcomes in drone ship ,booster versions, launch_site for the months in year 2015.\n",
    "\n",
    "**Note: SQLLite does not support monthnames. So you need to use  substr(Date, 6,2) as month to get the months and substr(Date,0,5)='2015' for year.**\n"
   ]
  },
  {
   "cell_type": "code",
   "execution_count": 67,
   "metadata": {},
   "outputs": [
    {
     "name": "stdout",
     "output_type": "stream",
     "text": [
      "2024-11-19 08:06:18,284 INFO sqlalchemy.engine.Engine BEGIN (implicit)\n",
      "2024-11-19 08:06:18,285 INFO sqlalchemy.engine.Engine PRAGMA main.table_info(\"\n",
      "SELECT \n",
      "    CASE \n",
      "        WHEN substr(\"\"Date\"\", 6, 2) = '01' THEN 'January'\n",
      "        WHEN substr(\"\"Date\"\", 6, 2) = '02' THEN 'February'\n",
      "        WHEN substr(\"\"Date\"\", 6, 2) = '03' THEN 'March'\n",
      "        WHEN substr(\"\"Date\"\", 6, 2) = '04' THEN 'April'\n",
      "        WHEN substr(\"\"Date\"\", 6, 2) = '05' THEN 'May'\n",
      "        WHEN substr(\"\"Date\"\", 6, 2) = '06' THEN 'June'\n",
      "        WHEN substr(\"\"Date\"\", 6, 2) = '07' THEN 'July'\n",
      "        WHEN substr(\"\"Date\"\", 6, 2) = '08' THEN 'August'\n",
      "        WHEN substr(\"\"Date\"\", 6, 2) = '09' THEN 'September'\n",
      "        WHEN substr(\"\"Date\"\", 6, 2) = '10' THEN 'October'\n",
      "        WHEN substr(\"\"Date\"\", 6, 2) = '11' THEN 'November'\n",
      "        WHEN substr(\"\"Date\"\", 6, 2) = '12' THEN 'December'\n",
      "    END AS \"\"Month_Name\"\",\n",
      "    \"\"Landing_Outcome\"\",\n",
      "    \"\"Booster_Version\"\",\n",
      "    \"\"Launch_Site\"\"\n",
      "FROM spacex_table\n",
      "WHERE substr(\"\"Date\"\", 0, 5) = '2015'\n",
      "  AND \"\"Landing_Outcome\"\" LIKE '%Failure (drone ship)%';\n",
      "\")\n",
      "2024-11-19 08:06:18,285 INFO sqlalchemy.engine.Engine [raw sql] ()\n",
      "2024-11-19 08:06:18,287 INFO sqlalchemy.engine.Engine PRAGMA temp.table_info(\"\n",
      "SELECT \n",
      "    CASE \n",
      "        WHEN substr(\"\"Date\"\", 6, 2) = '01' THEN 'January'\n",
      "        WHEN substr(\"\"Date\"\", 6, 2) = '02' THEN 'February'\n",
      "        WHEN substr(\"\"Date\"\", 6, 2) = '03' THEN 'March'\n",
      "        WHEN substr(\"\"Date\"\", 6, 2) = '04' THEN 'April'\n",
      "        WHEN substr(\"\"Date\"\", 6, 2) = '05' THEN 'May'\n",
      "        WHEN substr(\"\"Date\"\", 6, 2) = '06' THEN 'June'\n",
      "        WHEN substr(\"\"Date\"\", 6, 2) = '07' THEN 'July'\n",
      "        WHEN substr(\"\"Date\"\", 6, 2) = '08' THEN 'August'\n",
      "        WHEN substr(\"\"Date\"\", 6, 2) = '09' THEN 'September'\n",
      "        WHEN substr(\"\"Date\"\", 6, 2) = '10' THEN 'October'\n",
      "        WHEN substr(\"\"Date\"\", 6, 2) = '11' THEN 'November'\n",
      "        WHEN substr(\"\"Date\"\", 6, 2) = '12' THEN 'December'\n",
      "    END AS \"\"Month_Name\"\",\n",
      "    \"\"Landing_Outcome\"\",\n",
      "    \"\"Booster_Version\"\",\n",
      "    \"\"Launch_Site\"\"\n",
      "FROM spacex_table\n",
      "WHERE substr(\"\"Date\"\", 0, 5) = '2015'\n",
      "  AND \"\"Landing_Outcome\"\" LIKE '%Failure (drone ship)%';\n",
      "\")\n",
      "2024-11-19 08:06:18,287 INFO sqlalchemy.engine.Engine [raw sql] ()\n",
      "2024-11-19 08:06:18,289 INFO sqlalchemy.engine.Engine \n",
      "SELECT \n",
      "    CASE \n",
      "        WHEN substr(\"Date\", 6, 2) = '01' THEN 'January'\n",
      "        WHEN substr(\"Date\", 6, 2) = '02' THEN 'February'\n",
      "        WHEN substr(\"Date\", 6, 2) = '03' THEN 'March'\n",
      "        WHEN substr(\"Date\", 6, 2) = '04' THEN 'April'\n",
      "        WHEN substr(\"Date\", 6, 2) = '05' THEN 'May'\n",
      "        WHEN substr(\"Date\", 6, 2) = '06' THEN 'June'\n",
      "        WHEN substr(\"Date\", 6, 2) = '07' THEN 'July'\n",
      "        WHEN substr(\"Date\", 6, 2) = '08' THEN 'August'\n",
      "        WHEN substr(\"Date\", 6, 2) = '09' THEN 'September'\n",
      "        WHEN substr(\"Date\", 6, 2) = '10' THEN 'October'\n",
      "        WHEN substr(\"Date\", 6, 2) = '11' THEN 'November'\n",
      "        WHEN substr(\"Date\", 6, 2) = '12' THEN 'December'\n",
      "    END AS \"Month_Name\",\n",
      "    \"Landing_Outcome\",\n",
      "    \"Booster_Version\",\n",
      "    \"Launch_Site\"\n",
      "FROM spacex_table\n",
      "WHERE substr(\"Date\", 0, 5) = '2015'\n",
      "  AND \"Landing_Outcome\" LIKE '%Failure (drone ship)%';\n",
      "\n",
      "2024-11-19 08:06:18,289 INFO sqlalchemy.engine.Engine [raw sql] ()\n",
      "2024-11-19 08:06:18,292 INFO sqlalchemy.engine.Engine ROLLBACK\n",
      "  Month_Name       Landing_Outcome Booster_Version  Launch_Site\n",
      "0    January  Failure (drone ship)   F9 v1.1 B1012  CCAFS LC-40\n",
      "1      April  Failure (drone ship)   F9 v1.1 B1015  CCAFS LC-40\n"
     ]
    }
   ],
   "source": [
    "import pandas as pd\n",
    "from sqlalchemy import create_engine\n",
    "\n",
    "# Create a connection to the SQLite database\n",
    "engine = create_engine('sqlite:///spacex.db', echo=True)\n",
    "\n",
    "# SQL query to find records with failure landing outcomes on drone ships in 2015\n",
    "query = '''\n",
    "SELECT \n",
    "    CASE \n",
    "        WHEN substr(\"Date\", 6, 2) = '01' THEN 'January'\n",
    "        WHEN substr(\"Date\", 6, 2) = '02' THEN 'February'\n",
    "        WHEN substr(\"Date\", 6, 2) = '03' THEN 'March'\n",
    "        WHEN substr(\"Date\", 6, 2) = '04' THEN 'April'\n",
    "        WHEN substr(\"Date\", 6, 2) = '05' THEN 'May'\n",
    "        WHEN substr(\"Date\", 6, 2) = '06' THEN 'June'\n",
    "        WHEN substr(\"Date\", 6, 2) = '07' THEN 'July'\n",
    "        WHEN substr(\"Date\", 6, 2) = '08' THEN 'August'\n",
    "        WHEN substr(\"Date\", 6, 2) = '09' THEN 'September'\n",
    "        WHEN substr(\"Date\", 6, 2) = '10' THEN 'October'\n",
    "        WHEN substr(\"Date\", 6, 2) = '11' THEN 'November'\n",
    "        WHEN substr(\"Date\", 6, 2) = '12' THEN 'December'\n",
    "    END AS \"Month_Name\",\n",
    "    \"Landing_Outcome\",\n",
    "    \"Booster_Version\",\n",
    "    \"Launch_Site\"\n",
    "FROM spacex_table\n",
    "WHERE substr(\"Date\", 0, 5) = '2015'\n",
    "  AND \"Landing_Outcome\" LIKE '%Failure (drone ship)%';\n",
    "'''\n",
    "\n",
    "# Execute the query and fetch the results into a DataFrame\n",
    "failure_landings_2015 = pd.read_sql(query, con=engine)\n",
    "\n",
    "# Display the result\n",
    "print(failure_landings_2015)\n",
    "\n"
   ]
  },
  {
   "cell_type": "markdown",
   "metadata": {},
   "source": [
    "### Task 10\n",
    "\n",
    "\n",
    "\n",
    "\n",
    "##### Rank the count of landing outcomes (such as Failure (drone ship) or Success (ground pad)) between the date 2010-06-04 and 2017-03-20, in descending order.\n"
   ]
  },
  {
   "cell_type": "code",
   "execution_count": 69,
   "metadata": {},
   "outputs": [
    {
     "name": "stdout",
     "output_type": "stream",
     "text": [
      "2024-11-19 08:07:46,057 INFO sqlalchemy.engine.Engine BEGIN (implicit)\n",
      "2024-11-19 08:07:46,058 INFO sqlalchemy.engine.Engine PRAGMA main.table_info(\"\n",
      "SELECT \"\"Landing_Outcome\"\", COUNT(*) AS \"\"Outcome_Count\"\"\n",
      "FROM spacex_table\n",
      "WHERE \"\"Date\"\" BETWEEN '2010-06-04' AND '2017-03-20'\n",
      "GROUP BY \"\"Landing_Outcome\"\"\n",
      "ORDER BY \"\"Outcome_Count\"\" DESC;\n",
      "\")\n",
      "2024-11-19 08:07:46,059 INFO sqlalchemy.engine.Engine [raw sql] ()\n",
      "2024-11-19 08:07:46,060 INFO sqlalchemy.engine.Engine PRAGMA temp.table_info(\"\n",
      "SELECT \"\"Landing_Outcome\"\", COUNT(*) AS \"\"Outcome_Count\"\"\n",
      "FROM spacex_table\n",
      "WHERE \"\"Date\"\" BETWEEN '2010-06-04' AND '2017-03-20'\n",
      "GROUP BY \"\"Landing_Outcome\"\"\n",
      "ORDER BY \"\"Outcome_Count\"\" DESC;\n",
      "\")\n",
      "2024-11-19 08:07:46,061 INFO sqlalchemy.engine.Engine [raw sql] ()\n",
      "2024-11-19 08:07:46,062 INFO sqlalchemy.engine.Engine \n",
      "SELECT \"Landing_Outcome\", COUNT(*) AS \"Outcome_Count\"\n",
      "FROM spacex_table\n",
      "WHERE \"Date\" BETWEEN '2010-06-04' AND '2017-03-20'\n",
      "GROUP BY \"Landing_Outcome\"\n",
      "ORDER BY \"Outcome_Count\" DESC;\n",
      "\n",
      "2024-11-19 08:07:46,063 INFO sqlalchemy.engine.Engine [raw sql] ()\n",
      "2024-11-19 08:07:46,065 INFO sqlalchemy.engine.Engine ROLLBACK\n",
      "          Landing_Outcome  Outcome_Count\n",
      "0              No attempt             10\n",
      "1    Success (drone ship)              5\n",
      "2    Failure (drone ship)              5\n",
      "3    Success (ground pad)              3\n",
      "4      Controlled (ocean)              3\n",
      "5    Uncontrolled (ocean)              2\n",
      "6     Failure (parachute)              2\n",
      "7  Precluded (drone ship)              1\n"
     ]
    }
   ],
   "source": [
    "import pandas as pd\n",
    "from sqlalchemy import create_engine\n",
    "\n",
    "# Create a connection to the SQLite database\n",
    "engine = create_engine('sqlite:///spacex.db', echo=True)\n",
    "\n",
    "# SQL query to rank landing outcomes between 2010-06-04 and 2017-03-20\n",
    "query = '''\n",
    "SELECT \"Landing_Outcome\", COUNT(*) AS \"Outcome_Count\"\n",
    "FROM spacex_table\n",
    "WHERE \"Date\" BETWEEN '2010-06-04' AND '2017-03-20'\n",
    "GROUP BY \"Landing_Outcome\"\n",
    "ORDER BY \"Outcome_Count\" DESC;\n",
    "'''\n",
    "\n",
    "# Execute the query and fetch the results into a DataFrame\n",
    "landing_outcomes_count = pd.read_sql(query, con=engine)\n",
    "\n",
    "# Display the result\n",
    "print(landing_outcomes_count)\n",
    "\n"
   ]
  },
  {
   "cell_type": "markdown",
   "metadata": {},
   "source": [
    "### Reference Links\n",
    "\n",
    "* <a href =\"https://cf-courses-data.s3.us.cloud-object-storage.appdomain.cloud/IBMDeveloperSkillsNetwork-DB0201EN-SkillsNetwork/labs/Labs_Coursera_V5/labs/Lab%20-%20String%20Patterns%20-%20Sorting%20-%20Grouping/instructional-labs.md.html?origin=www.coursera.org\">Hands-on Lab : String Patterns, Sorting and Grouping</a>  \n",
    "\n",
    "*  <a  href=\"https://cf-courses-data.s3.us.cloud-object-storage.appdomain.cloud/IBMDeveloperSkillsNetwork-DB0201EN-SkillsNetwork/labs/Labs_Coursera_V5/labs/Lab%20-%20Built-in%20functions%20/Hands-on_Lab__Built-in_Functions.md.html?origin=www.coursera.org\">Hands-on Lab: Built-in functions</a>\n",
    "\n",
    "*  <a  href=\"https://cf-courses-data.s3.us.cloud-object-storage.appdomain.cloud/IBMDeveloperSkillsNetwork-DB0201EN-SkillsNetwork/labs/Labs_Coursera_V5/labs/Lab%20-%20Sub-queries%20and%20Nested%20SELECTs%20/instructional-labs.md.html?origin=www.coursera.org\">Hands-on Lab : Sub-queries and Nested SELECT Statements</a>\n",
    "\n",
    "*   <a href=\"https://cf-courses-data.s3.us.cloud-object-storage.appdomain.cloud/IBMDeveloperSkillsNetwork-DB0201EN-SkillsNetwork/labs/Module%205/DB0201EN-Week3-1-3-SQLmagic.ipynb\">Hands-on Tutorial: Accessing Databases with SQL magic</a>\n",
    "\n",
    "*  <a href= \"https://cf-courses-data.s3.us.cloud-object-storage.appdomain.cloud/IBMDeveloperSkillsNetwork-DB0201EN-SkillsNetwork/labs/Module%205/DB0201EN-Week3-1-4-Analyzing.ipynb\">Hands-on Lab: Analyzing a real World Data Set</a>\n",
    "\n",
    "\n"
   ]
  },
  {
   "cell_type": "markdown",
   "metadata": {},
   "source": [
    "## Author(s)\n",
    "\n",
    "<h4> Lakshmi Holla </h4>\n"
   ]
  },
  {
   "cell_type": "markdown",
   "metadata": {},
   "source": [
    "## Other Contributors\n",
    "\n",
    "<h4> Rav Ahuja </h4>\n"
   ]
  },
  {
   "cell_type": "markdown",
   "metadata": {},
   "source": [
    "<!--\n",
    "## Change log\n",
    "| Date | Version | Changed by | Change Description |\n",
    "|------|--------|--------|---------|\n",
    "| 2024-07-10 | 1.1 |Anita Verma | Changed Version|\n",
    "| 2021-07-09 | 0.2 |Lakshmi Holla | Changes made in magic sql|\n",
    "| 2021-05-20 | 0.1 |Lakshmi Holla | Created Initial Version |\n",
    "-->\n"
   ]
  },
  {
   "cell_type": "markdown",
   "metadata": {},
   "source": [
    "## <h3 align=\"center\"> © IBM Corporation 2021. All rights reserved. <h3/>\n"
   ]
  }
 ],
 "metadata": {
  "kernelspec": {
   "display_name": "Python 3 (ipykernel)",
   "language": "python",
   "name": "python3"
  },
  "language_info": {
   "codemirror_mode": {
    "name": "ipython",
    "version": 3
   },
   "file_extension": ".py",
   "mimetype": "text/x-python",
   "name": "python",
   "nbconvert_exporter": "python",
   "pygments_lexer": "ipython3",
   "version": "3.11.9"
  },
  "prev_pub_hash": "da902c2e8070fbe82a1211fe564834ebcb50f7fc45ad4040b3068861f12c70b8"
 },
 "nbformat": 4,
 "nbformat_minor": 4
}
